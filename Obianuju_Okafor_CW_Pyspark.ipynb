{
 "cells": [
  {
   "cell_type": "code",
   "execution_count": 45,
   "id": "c7cdbe63",
   "metadata": {},
   "outputs": [],
   "source": [
    "# install pyspark\n",
    "#pip install pyspark\n",
    "#pip install findspark\n",
    "#import findspark\n",
    "#findspark.init()"
   ]
  },
  {
   "cell_type": "markdown",
   "id": "99b5d6d5",
   "metadata": {},
   "source": [
    "### import neccessary libraries"
   ]
  },
  {
   "cell_type": "code",
   "execution_count": 97,
   "id": "e065a548",
   "metadata": {},
   "outputs": [],
   "source": [
    "from pyspark.sql import SparkSession\n",
    "from pyspark.ml.feature import VectorAssembler, StringIndexer,StandardScaler\n",
    "from pyspark.mllib.evaluation import BinaryClassificationMetrics\n",
    "from pyspark.ml.evaluation import MulticlassClassificationEvaluator\n",
    "from pyspark.ml.evaluation import BinaryClassificationEvaluator\n",
    "from pyspark.ml.classification import LogisticRegression\n",
    "from pyspark.ml.classification import RandomForestClassifier\n",
    "from pyspark.ml.classification import DecisionTreeClassifier"
   ]
  },
  {
   "cell_type": "code",
   "execution_count": 98,
   "id": "e7f59235",
   "metadata": {},
   "outputs": [],
   "source": [
    "# Create a SparkSession\n",
    "spark = SparkSession.builder.appName(\"AirlineRecommendationPredictor\").master(\"local\").getOrCreate()"
   ]
  },
  {
   "cell_type": "code",
   "execution_count": 99,
   "id": "402bb509",
   "metadata": {},
   "outputs": [],
   "source": [
    "# Load the dataset\n",
    "data = spark.read.csv(\"C:/Users/EZENWAJIAKU CHINEDU/Desktop/Course Work/Big Data/Book.csv\", header=True, inferSchema=True)"
   ]
  },
  {
   "cell_type": "code",
   "execution_count": 100,
   "id": "2bb64a19",
   "metadata": {},
   "outputs": [
    {
     "name": "stdout",
     "output_type": "stream",
     "text": [
      "(8365, 17)\n"
     ]
    }
   ],
   "source": [
    "import pyspark.sql.functions as fc\n",
    "print((data.count(), len(data.columns)))\n",
    "#data.describe().show()\n",
    "\n",
    "\n",
    "# finding null values in each column\n",
    "data_null = data.agg(*[fc.count(fc.when(fc.isnull(c), c)).alias(c) for c in data.columns])\n",
    "#data_null.show() \n",
    "# no null values"
   ]
  },
  {
   "cell_type": "code",
   "execution_count": 101,
   "id": "eda7d192",
   "metadata": {},
   "outputs": [],
   "source": [
    "# Drop columns not neccessary for classification\n",
    "airline_data = data.drop('Name', 'Review Date', 'Month Flown')"
   ]
  },
  {
   "cell_type": "code",
   "execution_count": 102,
   "id": "71b04e06",
   "metadata": {},
   "outputs": [
    {
     "data": {
      "text/plain": [
       "[('Title', 'string'),\n",
       " ('Airline', 'string'),\n",
       " ('Verified', 'string'),\n",
       " ('Reviews', 'string'),\n",
       " ('Type of Traveller', 'string'),\n",
       " ('Route', 'string'),\n",
       " ('Class', 'string'),\n",
       " ('Seat Comfort', 'string'),\n",
       " ('Staff Service', 'string'),\n",
       " ('Food & Beverages', 'string'),\n",
       " ('Inflight Entertainment', 'string'),\n",
       " ('Value For Money', 'string'),\n",
       " ('Overall Rating', 'string'),\n",
       " ('Recommended', 'string')]"
      ]
     },
     "execution_count": 102,
     "metadata": {},
     "output_type": "execute_result"
    }
   ],
   "source": [
    "airline_data.dtypes\n",
    "#airline_data.summary\n",
    "#airline_data.describe().show()"
   ]
  },
  {
   "cell_type": "code",
   "execution_count": 103,
   "id": "d90c0500-ec5f-490e-8ad9-8dfa51494729",
   "metadata": {},
   "outputs": [],
   "source": [
    "# converting the interger columns to intergers\n",
    "\n",
    "from pyspark.sql.types import IntegerType\n",
    "from pyspark.sql.types import BooleanType\n",
    "\n",
    "airline_data = airline_data.withColumn(\"Seat Comfort\", airline_data[\"Seat Comfort\"].cast(IntegerType()))\n",
    "airline_data = airline_data.withColumn(\"Staff Service\", airline_data[\"Staff Service\"].cast(IntegerType()))\n",
    "airline_data = airline_data.withColumn(\"Food & Beverages\", airline_data[\"Food & Beverages\"].cast(IntegerType()))\n",
    "airline_data = airline_data.withColumn(\"Inflight Entertainment\", airline_data[\"Inflight Entertainment\"].cast(IntegerType()))\n",
    "airline_data = airline_data.withColumn(\"Value For Money\", airline_data[\"Value For Money\"].cast(IntegerType()))\n",
    "airline_data = airline_data.withColumn(\"Overall Rating\", airline_data[\"Overall Rating\"].cast(IntegerType()))\n",
    "airline_data = airline_data.withColumn(\"Verified\", airline_data[\"Verified\"].cast(BooleanType()))"
   ]
  },
  {
   "cell_type": "code",
   "execution_count": 104,
   "id": "869bab53-2ed4-4e6c-b0c2-8f5077ebe7e8",
   "metadata": {},
   "outputs": [
    {
     "data": {
      "text/plain": [
       "[('Title', 'string'),\n",
       " ('Airline', 'string'),\n",
       " ('Verified', 'boolean'),\n",
       " ('Reviews', 'string'),\n",
       " ('Type of Traveller', 'string'),\n",
       " ('Route', 'string'),\n",
       " ('Class', 'string'),\n",
       " ('Seat Comfort', 'int'),\n",
       " ('Staff Service', 'int'),\n",
       " ('Food & Beverages', 'int'),\n",
       " ('Inflight Entertainment', 'int'),\n",
       " ('Value For Money', 'int'),\n",
       " ('Overall Rating', 'int'),\n",
       " ('Recommended', 'string')]"
      ]
     },
     "execution_count": 104,
     "metadata": {},
     "output_type": "execute_result"
    }
   ],
   "source": [
    "airline_data.dtypes"
   ]
  },
  {
   "cell_type": "code",
   "execution_count": 105,
   "id": "c4a317c0",
   "metadata": {},
   "outputs": [],
   "source": [
    "# Converting the target variable column from string no and yes to integer 0 and 1\n",
    "from pyspark.sql.functions import when\n",
    "\n",
    "airline_data = airline_data.withColumn('Recommended_new', when(airline_data.Recommended=='yes', 1).otherwise(0))\n",
    "airline_data = airline_data.drop(\"Recommended\")"
   ]
  },
  {
   "cell_type": "code",
   "execution_count": 106,
   "id": "1dabe035-8116-4d8c-8fb6-ef26e780f78e",
   "metadata": {},
   "outputs": [],
   "source": [
    "# Converting the target variable column from string no and yes to integer 0 and 1\n",
    "from pyspark.sql.functions import when\n",
    "\n",
    "airline_data = airline_data.withColumn('Verified_new', when(airline_data.Verified=='True', 1).otherwise(0))\n",
    "airline_data = airline_data.drop(\"Verified\")"
   ]
  },
  {
   "cell_type": "code",
   "execution_count": 107,
   "id": "e1204da1-4164-4be6-a7e1-e243fde1753c",
   "metadata": {},
   "outputs": [],
   "source": [
    "airline_data=airline_data.dropna()"
   ]
  },
  {
   "cell_type": "code",
   "execution_count": 108,
   "id": "338ca133",
   "metadata": {},
   "outputs": [
    {
     "name": "stdout",
     "output_type": "stream",
     "text": [
      "+---------------+-----+\n",
      "|Recommended_new|count|\n",
      "+---------------+-----+\n",
      "|              0| 3408|\n",
      "|              1| 3948|\n",
      "+---------------+-----+\n",
      "\n"
     ]
    }
   ],
   "source": [
    "airline_data.groupBy('Recommended_new').count().orderBy('count').show()"
   ]
  },
  {
   "cell_type": "code",
   "execution_count": 109,
   "id": "8ae22377",
   "metadata": {},
   "outputs": [
    {
     "name": "stdout",
     "output_type": "stream",
     "text": [
      "(7356, 14)\n"
     ]
    }
   ],
   "source": [
    "print((airline_data.count(), len(airline_data.columns)))"
   ]
  },
  {
   "cell_type": "code",
   "execution_count": 110,
   "id": "6fe07c24",
   "metadata": {},
   "outputs": [],
   "source": [
    "from pyspark.ml import Pipeline\n",
    "from pyspark.ml.feature import StringIndexer\n",
    "\n",
    "#label encoding of categorical columns\n",
    "categorical_cols = ['Title','Airline','Reviews','Type of Traveller','Route','Class','Seat Comfort','Staff Service','Food & Beverages','Value For Money','Overall Rating','Inflight Entertainment','Verified_new']\n",
    "label_encoders = [StringIndexer(inputCol=col, outputCol=col + \"_encoded\").fit(airline_data) for col in categorical_cols]\n",
    "pipeline = Pipeline(stages=label_encoders)\n",
    "airline_data = pipeline.fit(airline_data).transform(airline_data)"
   ]
  },
  {
   "cell_type": "code",
   "execution_count": 111,
   "id": "8c1e3b7d",
   "metadata": {},
   "outputs": [
    {
     "data": {
      "text/plain": [
       "[('Title', 'string'),\n",
       " ('Airline', 'string'),\n",
       " ('Reviews', 'string'),\n",
       " ('Type of Traveller', 'string'),\n",
       " ('Route', 'string'),\n",
       " ('Class', 'string'),\n",
       " ('Seat Comfort', 'int'),\n",
       " ('Staff Service', 'int'),\n",
       " ('Food & Beverages', 'int'),\n",
       " ('Inflight Entertainment', 'int'),\n",
       " ('Value For Money', 'int'),\n",
       " ('Overall Rating', 'int'),\n",
       " ('Recommended_new', 'int'),\n",
       " ('Verified_new', 'int'),\n",
       " ('Title_encoded', 'double'),\n",
       " ('Airline_encoded', 'double'),\n",
       " ('Reviews_encoded', 'double'),\n",
       " ('Type of Traveller_encoded', 'double'),\n",
       " ('Route_encoded', 'double'),\n",
       " ('Class_encoded', 'double'),\n",
       " ('Seat Comfort_encoded', 'double'),\n",
       " ('Staff Service_encoded', 'double'),\n",
       " ('Food & Beverages_encoded', 'double'),\n",
       " ('Value For Money_encoded', 'double'),\n",
       " ('Overall Rating_encoded', 'double'),\n",
       " ('Inflight Entertainment_encoded', 'double'),\n",
       " ('Verified_new_encoded', 'double')]"
      ]
     },
     "execution_count": 111,
     "metadata": {},
     "output_type": "execute_result"
    }
   ],
   "source": [
    "airline_data.dtypes"
   ]
  },
  {
   "cell_type": "code",
   "execution_count": 112,
   "id": "8330f7f9",
   "metadata": {},
   "outputs": [],
   "source": [
    "airline_data = airline_data.drop('Title','Airline','Reviews','Verified_new','Type of Traveller','Route','Class','Seat Comfort','Staff Service','Food & Beverages','Value For Money','Overall Rating','Inflight Entertainment','Recommended')"
   ]
  },
  {
   "cell_type": "code",
   "execution_count": 113,
   "id": "f67756be",
   "metadata": {},
   "outputs": [
    {
     "data": {
      "text/plain": [
       "[('Recommended_new', 'int'),\n",
       " ('Title_encoded', 'double'),\n",
       " ('Airline_encoded', 'double'),\n",
       " ('Reviews_encoded', 'double'),\n",
       " ('Type of Traveller_encoded', 'double'),\n",
       " ('Route_encoded', 'double'),\n",
       " ('Class_encoded', 'double'),\n",
       " ('Seat Comfort_encoded', 'double'),\n",
       " ('Staff Service_encoded', 'double'),\n",
       " ('Food & Beverages_encoded', 'double'),\n",
       " ('Value For Money_encoded', 'double'),\n",
       " ('Overall Rating_encoded', 'double'),\n",
       " ('Inflight Entertainment_encoded', 'double'),\n",
       " ('Verified_new_encoded', 'double')]"
      ]
     },
     "execution_count": 113,
     "metadata": {},
     "output_type": "execute_result"
    }
   ],
   "source": [
    "airline_data.dtypes"
   ]
  },
  {
   "cell_type": "code",
   "execution_count": 114,
   "id": "64960ffc",
   "metadata": {},
   "outputs": [
    {
     "name": "stdout",
     "output_type": "stream",
     "text": [
      "+---------------+-------------+---------------+---------------+-------------------------+-------------+-------------+--------------------+---------------------+------------------------+-----------------------+----------------------+------------------------------+--------------------+\n",
      "|Recommended_new|Title_encoded|Airline_encoded|Reviews_encoded|Type of Traveller_encoded|Route_encoded|Class_encoded|Seat Comfort_encoded|Staff Service_encoded|Food & Beverages_encoded|Value For Money_encoded|Overall Rating_encoded|Inflight Entertainment_encoded|Verified_new_encoded|\n",
      "+---------------+-------------+---------------+---------------+-------------------------+-------------+-------------+--------------------+---------------------+------------------------+-----------------------+----------------------+------------------------------+--------------------+\n",
      "|              1|        788.0|            3.0|         1617.0|                      0.0|         13.0|          1.0|                 1.0|                  2.0|                     1.0|                    2.0|                   2.0|                           1.0|                 0.0|\n",
      "|              0|       5465.0|            3.0|         7321.0|                      0.0|        393.0|          0.0|                 0.0|                  3.0|                     1.0|                    1.0|                   5.0|                           1.0|                 0.0|\n",
      "|              1|        825.0|            3.0|         1379.0|                      2.0|        893.0|          0.0|                 3.0|                  0.0|                     4.0|                    0.0|                   1.0|                           3.0|                 0.0|\n",
      "|              1|       6899.0|            3.0|         6757.0|                      0.0|         64.0|          0.0|                 0.0|                  0.0|                     0.0|                    0.0|                   1.0|                           0.0|                 0.0|\n",
      "|              1|       6918.0|            3.0|         6952.0|                      2.0|        410.0|          0.0|                 0.0|                  0.0|                     0.0|                    0.0|                   1.0|                           0.0|                 0.0|\n",
      "+---------------+-------------+---------------+---------------+-------------------------+-------------+-------------+--------------------+---------------------+------------------------+-----------------------+----------------------+------------------------------+--------------------+\n",
      "only showing top 5 rows\n",
      "\n"
     ]
    }
   ],
   "source": [
    "# show the first five rows\n",
    "airline_data.show(5)"
   ]
  },
  {
   "cell_type": "code",
   "execution_count": 115,
   "id": "8df2c3bf",
   "metadata": {},
   "outputs": [
    {
     "name": "stdout",
     "output_type": "stream",
     "text": [
      "(7356, 14)\n"
     ]
    }
   ],
   "source": [
    "print((airline_data.count(), len(airline_data.columns)))"
   ]
  },
  {
   "cell_type": "code",
   "execution_count": 116,
   "id": "c451687e",
   "metadata": {},
   "outputs": [
    {
     "name": "stdout",
     "output_type": "stream",
     "text": [
      "['Title_encoded', 'Airline_encoded', 'Reviews_encoded', 'Type of Traveller_encoded', 'Route_encoded', 'Class_encoded', 'Seat Comfort_encoded', 'Staff Service_encoded', 'Food & Beverages_encoded', 'Value For Money_encoded', 'Overall Rating_encoded', 'Inflight Entertainment_encoded', 'Verified_new_encoded']\n"
     ]
    }
   ],
   "source": [
    "# seperating target variable from other features\n",
    "features = airline_data.drop(\"Recommended_new\")\n",
    "\n",
    "# putting all the other features as one\n",
    "features_col = features.columns\n",
    "print(features_col)\n",
    "assembler = VectorAssembler(inputCols=features_col, outputCol=\"Vfeatures\")\n",
    "airline_data = assembler.transform(airline_data)\n",
    "#airline_data.show(2)\n",
    "airline_data = airline_data.select(\"Vfeatures\", \"Recommended_new\")"
   ]
  },
  {
   "cell_type": "code",
   "execution_count": 20,
   "id": "a8f45b10",
   "metadata": {},
   "outputs": [],
   "source": [
    "#airline_data = airline_data.select(\"Vfeatures\", \"Recommended_encoded\")"
   ]
  },
  {
   "cell_type": "code",
   "execution_count": 117,
   "id": "f4724798",
   "metadata": {},
   "outputs": [
    {
     "name": "stdout",
     "output_type": "stream",
     "text": [
      "+--------------------+---------------+\n",
      "|           Vfeatures|Recommended_new|\n",
      "+--------------------+---------------+\n",
      "|[788.0,3.0,1617.0...|              1|\n",
      "|[5465.0,3.0,7321....|              0|\n",
      "|[825.0,3.0,1379.0...|              1|\n",
      "|(13,[0,1,2,4,10],...|              1|\n",
      "|(13,[0,1,2,3,4,10...|              1|\n",
      "+--------------------+---------------+\n",
      "only showing top 5 rows\n",
      "\n"
     ]
    }
   ],
   "source": [
    "airline_data.show(5)"
   ]
  },
  {
   "cell_type": "markdown",
   "id": "a096b548",
   "metadata": {},
   "source": [
    "### Data Scaling\n",
    "\n",
    "##### Feature scaling is done to ensure that the age column is not contributing or giving too much importance in the training because it has large numbers"
   ]
  },
  {
   "cell_type": "code",
   "execution_count": 22,
   "id": "9efc8670",
   "metadata": {},
   "outputs": [],
   "source": [
    "#airline_data.select(\"Vfeatures\").show()"
   ]
  },
  {
   "cell_type": "code",
   "execution_count": 118,
   "id": "f3349e20",
   "metadata": {},
   "outputs": [],
   "source": [
    "scaled_data = StandardScaler(inputCol=\"Vfeatures\", outputCol=\"features\")\n",
    "airline_data = scaled_data.fit(airline_data).transform(airline_data)"
   ]
  },
  {
   "cell_type": "code",
   "execution_count": 123,
   "id": "af181908-e706-4cdb-8095-e895bffdbd5b",
   "metadata": {},
   "outputs": [],
   "source": [
    "#renaming the target column to label\n",
    "airline_data = airline_data.select(\"features\", \"Recommended_new\")\n",
    "airline_data = airline_data.withColumnRenamed(\"Recommended_new\",\"label\")"
   ]
  },
  {
   "cell_type": "code",
   "execution_count": 124,
   "id": "481f104a",
   "metadata": {},
   "outputs": [],
   "source": [
    "#splitting into test and train data\n",
    "train_data, test_data = airline_data.randomSplit([0.8, 0.2], seed=42)"
   ]
  },
  {
   "cell_type": "code",
   "execution_count": 126,
   "id": "1ae2ea6b",
   "metadata": {},
   "outputs": [
    {
     "name": "stdout",
     "output_type": "stream",
     "text": [
      "AUC-ROC:  0.801257937952514\n",
      "Accuracy:  0.7144886363636364\n",
      "Precision:  0.7142703553986419\n",
      "Recall:  0.7144886363636364\n",
      "F-Score:  0.7143794792070255\n"
     ]
    }
   ],
   "source": [
    "# Logistic Regression\n",
    "log_reg=LogisticRegression().fit(train_data)\n",
    "\n",
    "#Get Predictions for Logistic Regression Model\n",
    "predictions = log_reg.transform(test_data)\n",
    "multi_evaluator = MulticlassClassificationEvaluator(labelCol=\"label\", predictionCol=\"prediction\")\n",
    "evaluator = BinaryClassificationEvaluator(rawPredictionCol=\"rawPrediction\", labelCol=\"label\")\n",
    "\n",
    "#Metrics for evaluation\n",
    "recall = multi_evaluator.evaluate(predictions, {multi_evaluator.metricName: \"weightedRecall\"})\n",
    "accuracy = multi_evaluator.evaluate(predictions, {multi_evaluator.metricName: \"accuracy\"})\n",
    "precision = multi_evaluator.evaluate(predictions, {multi_evaluator.metricName: \"weightedPrecision\"})\n",
    "auc = evaluator.evaluate(predictions)\n",
    "f1_Score = (2*precision*recall)/(precision+recall)\n",
    "\n",
    "print(\"AUC-ROC: \", auc)\n",
    "print(\"Accuracy: \", accuracy)\n",
    "print(\"Precision: \", precision)\n",
    "print(\"Recall: \", recall)\n",
    "print(\"F-Score: \",f1_Score)"
   ]
  },
  {
   "cell_type": "code",
   "execution_count": 127,
   "id": "fe1ca5ef-fa92-4d60-af72-2f434acd6712",
   "metadata": {},
   "outputs": [
    {
     "name": "stdout",
     "output_type": "stream",
     "text": [
      "+--------------------+-----+--------------------+--------------------+----------+\n",
      "|            features|label|       rawPrediction|         probability|prediction|\n",
      "+--------------------+-----+--------------------+--------------------+----------+\n",
      "|(13,[0,1,2,3,4,5,...|    1|[-1.9934682617580...|[0.11989042018618...|       1.0|\n",
      "|(13,[0,1,2,3,4,5,...|    1|[-2.4910545809389...|[0.07648767131528...|       1.0|\n",
      "|(13,[0,1,2,3,4,5,...|    1|[-1.8251995944161...|[0.13881113179141...|       1.0|\n",
      "|(13,[0,1,2,3,4,5,...|    1|[-1.9759665654852...|[0.12174946148467...|       1.0|\n",
      "|(13,[0,1,2,3,4,6,...|    0|[1.09666177081946...|[0.74963409959556...|       0.0|\n",
      "|(13,[0,1,2,3,4,6,...|    0|[0.18514436647063...|[0.54615432536921...|       0.0|\n",
      "|(13,[0,1,2,3,4,6,...|    0|[2.01302723018359...|[0.88215808275607...|       0.0|\n",
      "|(13,[0,1,2,3,4,6,...|    1|[-0.7945885943192...|[0.31118425941051...|       1.0|\n",
      "|(13,[0,1,2,3,4,6,...|    1|[-2.0604753438748...|[0.11299817778541...|       1.0|\n",
      "|(13,[0,1,2,3,4,6,...|    1|[-1.5696756878633...|[0.17226262990792...|       1.0|\n",
      "|(13,[0,1,2,3,4,6,...|    1|[-0.9528785211975...|[0.27830629673341...|       1.0|\n",
      "|(13,[0,1,2,3,4,6,...|    1|[-1.2584896858074...|[0.22123399395964...|       1.0|\n",
      "|(13,[0,1,2,3,4,6,...|    1|[-1.3619550449416...|[0.20392273997967...|       1.0|\n",
      "|(13,[0,1,2,3,4,6,...|    1|[-0.6104900224873...|[0.35194742527044...|       1.0|\n",
      "|(13,[0,1,2,3,4,7,...|    0|[-0.1115124358773...|[0.47215074389726...|       1.0|\n",
      "|(13,[0,1,2,3,4,7,...|    1|[-1.8209742254498...|[0.13931701469354...|       1.0|\n",
      "|(13,[0,1,2,3,4,7,...|    1|[-1.1389830690221...|[0.24250711967045...|       1.0|\n",
      "|(13,[0,1,2,3,4,8,...|    1|[-1.3756739494695...|[0.20170468116576...|       1.0|\n",
      "|(13,[0,1,2,3,4,9,...|    1|[0.43481731671322...|[0.60702341055839...|       0.0|\n",
      "|(13,[0,1,2,3,4,9,...|    1|[0.06731788390554...|[0.51682311834923...|       0.0|\n",
      "+--------------------+-----+--------------------+--------------------+----------+\n",
      "only showing top 20 rows\n",
      "\n"
     ]
    }
   ],
   "source": [
    "#Display the Logistic Regresssion predictions\n",
    "predictions.show()"
   ]
  },
  {
   "cell_type": "code",
   "execution_count": 128,
   "id": "51e2a94a-73d3-4b5d-9ddb-6e91a455f535",
   "metadata": {},
   "outputs": [
    {
     "name": "stdout",
     "output_type": "stream",
     "text": [
      "AUC-ROC:  0.977222626703884\n",
      "Accuracy:  0.9183238636363636\n",
      "Precision:  0.9213888251183401\n",
      "Recall:  0.9183238636363636\n",
      "F-Score:  0.9198537912643187\n"
     ]
    }
   ],
   "source": [
    "# Random Forest classification\n",
    "\n",
    "random_forest = RandomForestClassifier(labelCol=\"label\", featuresCol=\"features\")\n",
    "model = random_forest.fit(train_data)\n",
    "\n",
    "#Get predictions for Randomforest Boost model\n",
    "predictionRDF = model.transform(test_data)\n",
    "\n",
    "# metrics evaluation\n",
    "recall = multi_evaluator.evaluate(predictionRDF, {multi_evaluator.metricName: \"weightedRecall\"})\n",
    "accuracy = multi_evaluator.evaluate(predictionRDF, {multi_evaluator.metricName: \"accuracy\"})\n",
    "precision = multi_evaluator.evaluate(predictionRDF, {multi_evaluator.metricName: \"weightedPrecision\"})\n",
    "auc = evaluator.evaluate(predictionRDF)\n",
    "f1_Score = (2*precision*recall)/(precision+recall)\n",
    "\n",
    "print(\"AUC-ROC: \", auc)\n",
    "print(\"Accuracy: \", accuracy)\n",
    "print(\"Precision: \", precision)\n",
    "print(\"Recall: \", recall)\n",
    "print(\"F-Score: \",f1_Score)"
   ]
  },
  {
   "cell_type": "code",
   "execution_count": 129,
   "id": "33189772-2a11-45cd-ac55-5512eb56db9c",
   "metadata": {},
   "outputs": [
    {
     "name": "stdout",
     "output_type": "stream",
     "text": [
      "+--------------------+-----+--------------------+--------------------+----------+\n",
      "|            features|label|       rawPrediction|         probability|prediction|\n",
      "+--------------------+-----+--------------------+--------------------+----------+\n",
      "|(13,[0,1,2,3,4,5,...|    1|[0.53628103845633...|[0.02681405192281...|       1.0|\n",
      "|(13,[0,1,2,3,4,5,...|    1|[1.00972453633475...|[0.05048622681673...|       1.0|\n",
      "|(13,[0,1,2,3,4,5,...|    1|[0.43833938117239...|[0.02191696905861...|       1.0|\n",
      "|(13,[0,1,2,3,4,5,...|    1|[0.43833938117239...|[0.02191696905861...|       1.0|\n",
      "|(13,[0,1,2,3,4,6,...|    0|[15.8198974975502...|[0.79099487487751...|       0.0|\n",
      "|(13,[0,1,2,3,4,6,...|    0|[19.0769803686714...|[0.95384901843357...|       0.0|\n",
      "|(13,[0,1,2,3,4,6,...|    0|[16.4688017039836...|[0.82344008519918...|       0.0|\n",
      "|(13,[0,1,2,3,4,6,...|    1|[0.67325604713817...|[0.03366280235690...|       1.0|\n",
      "|(13,[0,1,2,3,4,6,...|    1|[1.44644341758519...|[0.07232217087925...|       1.0|\n",
      "|(13,[0,1,2,3,4,6,...|    1|[0.76261647433597...|[0.03813082371679...|       1.0|\n",
      "|(13,[0,1,2,3,4,6,...|    1|[0.67622656312228...|[0.03381132815611...|       1.0|\n",
      "|(13,[0,1,2,3,4,6,...|    1|[0.80904816803256...|[0.04045240840162...|       1.0|\n",
      "|(13,[0,1,2,3,4,6,...|    1|[1.35195303445836...|[0.06759765172291...|       1.0|\n",
      "|(13,[0,1,2,3,4,6,...|    1|[0.92190505000076...|[0.04609525250003...|       1.0|\n",
      "|(13,[0,1,2,3,4,7,...|    0|[17.2913515113483...|[0.86456757556741...|       0.0|\n",
      "|(13,[0,1,2,3,4,7,...|    1|[1.47217862203294...|[0.07360893110164...|       1.0|\n",
      "|(13,[0,1,2,3,4,7,...|    1|[1.57237068747277...|[0.07861853437363...|       1.0|\n",
      "|(13,[0,1,2,3,4,8,...|    1|[1.44554305435294...|[0.07227715271764...|       1.0|\n",
      "|(13,[0,1,2,3,4,9,...|    1|[7.42649784784626...|[0.37132489239231...|       1.0|\n",
      "|(13,[0,1,2,3,4,9,...|    1|[6.40121388602240...|[0.32006069430112...|       1.0|\n",
      "+--------------------+-----+--------------------+--------------------+----------+\n",
      "only showing top 20 rows\n",
      "\n"
     ]
    }
   ],
   "source": [
    "predictionRDF.show()"
   ]
  },
  {
   "cell_type": "code",
   "execution_count": 130,
   "id": "bebf5a21-efeb-4596-90f8-56eeb41f9ddc",
   "metadata": {},
   "outputs": [
    {
     "name": "stdout",
     "output_type": "stream",
     "text": [
      "AUC-ROC:  0.9453494721514379\n",
      "Accuracy:  0.9161931818181818\n",
      "Precision:  0.919355231165893\n",
      "Recall:  0.9161931818181819\n",
      "F-Score:  0.9177714829038154\n"
     ]
    }
   ],
   "source": [
    "# Decision Tree classification\n",
    "\n",
    "Decision_Tree = DecisionTreeClassifier(labelCol=\"label\", featuresCol=\"features\")\n",
    "model = Decision_Tree.fit(train_data)\n",
    "\n",
    "#Get predictions for Decision Tree model\n",
    "predictionDT = model.transform(test_data)\n",
    "\n",
    "# metrics evaluation\n",
    "recall = multi_evaluator.evaluate(predictionDT, {multi_evaluator.metricName: \"weightedRecall\"})\n",
    "accuracy = multi_evaluator.evaluate(predictionDT, {multi_evaluator.metricName: \"accuracy\"})\n",
    "precision = multi_evaluator.evaluate(predictionDT, {multi_evaluator.metricName: \"weightedPrecision\"})\n",
    "auc = evaluator.evaluate(predictionDT)\n",
    "f1_Score = (2*precision*recall)/(precision+recall)\n",
    "\n",
    "print(\"AUC-ROC: \", auc)\n",
    "print(\"Accuracy: \", accuracy)\n",
    "print(\"Precision: \", precision)\n",
    "print(\"Recall: \", recall)\n",
    "print(\"F-Score: \",f1_Score)"
   ]
  },
  {
   "cell_type": "code",
   "execution_count": 131,
   "id": "52d581a9-e570-4276-8f43-bbc779330791",
   "metadata": {},
   "outputs": [
    {
     "name": "stdout",
     "output_type": "stream",
     "text": [
      "+--------------------+-----+-------------+--------------------+----------+\n",
      "|            features|label|rawPrediction|         probability|prediction|\n",
      "+--------------------+-----+-------------+--------------------+----------+\n",
      "|(13,[0,1,2,3,4,5,...|    1| [7.0,1675.0]|[0.00416171224732...|       1.0|\n",
      "|(13,[0,1,2,3,4,5,...|    1| [7.0,1675.0]|[0.00416171224732...|       1.0|\n",
      "|(13,[0,1,2,3,4,5,...|    1| [7.0,1675.0]|[0.00416171224732...|       1.0|\n",
      "|(13,[0,1,2,3,4,5,...|    1| [7.0,1675.0]|[0.00416171224732...|       1.0|\n",
      "|(13,[0,1,2,3,4,6,...|    0|[482.0,343.0]|[0.58424242424242...|       0.0|\n",
      "|(13,[0,1,2,3,4,6,...|    0|[1446.0,10.0]|[0.99313186813186...|       0.0|\n",
      "|(13,[0,1,2,3,4,6,...|    0| [569.0,39.0]|[0.93585526315789...|       0.0|\n",
      "|(13,[0,1,2,3,4,6,...|    1| [7.0,1675.0]|[0.00416171224732...|       1.0|\n",
      "|(13,[0,1,2,3,4,6,...|    1| [7.0,1675.0]|[0.00416171224732...|       1.0|\n",
      "|(13,[0,1,2,3,4,6,...|    1| [7.0,1675.0]|[0.00416171224732...|       1.0|\n",
      "|(13,[0,1,2,3,4,6,...|    1| [7.0,1675.0]|[0.00416171224732...|       1.0|\n",
      "|(13,[0,1,2,3,4,6,...|    1| [7.0,1675.0]|[0.00416171224732...|       1.0|\n",
      "|(13,[0,1,2,3,4,6,...|    1| [7.0,1675.0]|[0.00416171224732...|       1.0|\n",
      "|(13,[0,1,2,3,4,6,...|    1| [7.0,1675.0]|[0.00416171224732...|       1.0|\n",
      "|(13,[0,1,2,3,4,7,...|    0|[1446.0,10.0]|[0.99313186813186...|       0.0|\n",
      "|(13,[0,1,2,3,4,7,...|    1| [7.0,1675.0]|[0.00416171224732...|       1.0|\n",
      "|(13,[0,1,2,3,4,7,...|    1| [7.0,1675.0]|[0.00416171224732...|       1.0|\n",
      "|(13,[0,1,2,3,4,8,...|    1| [7.0,1675.0]|[0.00416171224732...|       1.0|\n",
      "|(13,[0,1,2,3,4,9,...|    1|[482.0,343.0]|[0.58424242424242...|       0.0|\n",
      "|(13,[0,1,2,3,4,9,...|    1|  [9.0,723.0]|[0.01229508196721...|       1.0|\n",
      "+--------------------+-----+-------------+--------------------+----------+\n",
      "only showing top 20 rows\n",
      "\n"
     ]
    }
   ],
   "source": [
    "predictionDT.show()"
   ]
  },
  {
   "cell_type": "code",
   "execution_count": null,
   "id": "43f60578-b9c1-4cec-9ab0-c805052b63a0",
   "metadata": {},
   "outputs": [],
   "source": []
  }
 ],
 "metadata": {
  "kernelspec": {
   "display_name": "Python 3 (ipykernel)",
   "language": "python",
   "name": "python3"
  },
  "language_info": {
   "codemirror_mode": {
    "name": "ipython",
    "version": 3
   },
   "file_extension": ".py",
   "mimetype": "text/x-python",
   "name": "python",
   "nbconvert_exporter": "python",
   "pygments_lexer": "ipython3",
   "version": "3.11.4"
  }
 },
 "nbformat": 4,
 "nbformat_minor": 5
}
